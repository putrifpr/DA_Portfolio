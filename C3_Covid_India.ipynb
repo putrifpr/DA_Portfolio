{
  "nbformat": 4,
  "nbformat_minor": 0,
  "metadata": {
    "colab": {
      "provenance": []
    },
    "kernelspec": {
      "name": "python3",
      "display_name": "Python 3"
    },
    "language_info": {
      "name": "python"
    }
  },
  "cells": [
    {
      "cell_type": "code",
      "execution_count": null,
      "metadata": {
        "id": "0QIO3Es5U1ZX"
      },
      "outputs": [],
      "source": [
        "import pandas as pd\n",
        "import numpy as np\n",
        "import matplotlib.pyplot as plt\n",
        "import seaborn as sns\n",
        "import plotly.express as px\n",
        "from plotly.subplots import make_subplots\n",
        "from datetime import datetime"
      ]
    },
    {
      "cell_type": "code",
      "source": [
        "covid_df = pd.read_csv('covid_19_india.csv')"
      ],
      "metadata": {
        "id": "ksk0kGyviCeB"
      },
      "execution_count": null,
      "outputs": []
    },
    {
      "cell_type": "code",
      "source": [
        "covid_df.head(10)"
      ],
      "metadata": {
        "id": "OpBIQdK5iI31"
      },
      "execution_count": null,
      "outputs": []
    },
    {
      "cell_type": "code",
      "source": [
        "covid_df.isnull()"
      ],
      "metadata": {
        "id": "YYyNmq7OpXO2"
      },
      "execution_count": null,
      "outputs": []
    },
    {
      "cell_type": "code",
      "source": [
        "covid_df.describe()"
      ],
      "metadata": {
        "id": "vIyDkstyiOcK"
      },
      "execution_count": null,
      "outputs": []
    },
    {
      "cell_type": "code",
      "source": [
        "vaccine_df = pd.read_csv('covid_vaccine_statewise.csv')"
      ],
      "metadata": {
        "id": "qMoTK6gUiV4i"
      },
      "execution_count": null,
      "outputs": []
    },
    {
      "cell_type": "code",
      "source": [
        "vaccine_df.head(7)"
      ],
      "metadata": {
        "id": "baWv1ykOileI"
      },
      "execution_count": null,
      "outputs": []
    },
    {
      "cell_type": "code",
      "source": [
        "covid_df.drop(['Sno','Time','ConfirmedIndianNational','ConfirmedForeignNational'], inplace = True, axis = 1)"
      ],
      "metadata": {
        "id": "EAfT6bknis05"
      },
      "execution_count": null,
      "outputs": []
    },
    {
      "cell_type": "code",
      "source": [
        "covid_df.dropna(how = 'all', inplace = True)"
      ],
      "metadata": {
        "id": "kLlG4wcfqSN2"
      },
      "execution_count": null,
      "outputs": []
    },
    {
      "cell_type": "code",
      "source": [
        "covid_df.isnull().sum()"
      ],
      "metadata": {
        "id": "XGCYtwXgqnjb"
      },
      "execution_count": null,
      "outputs": []
    },
    {
      "cell_type": "code",
      "source": [
        "covid_df.head()"
      ],
      "metadata": {
        "id": "f7TZqh-Ll3yS"
      },
      "execution_count": null,
      "outputs": []
    },
    {
      "cell_type": "code",
      "source": [
        "covid_df['Date'] = pd.to_datetime(covid_df['Date'], format = '%Y-%m-%d')"
      ],
      "metadata": {
        "id": "2ev0FBWel7k9"
      },
      "execution_count": null,
      "outputs": []
    },
    {
      "cell_type": "code",
      "source": [
        "covid_df[['Cured', 'Deaths', 'Confirmed']] = covid_df[['Cured', 'Deaths', 'Confirmed']].astype(int)"
      ],
      "metadata": {
        "id": "w2yV11acykiJ"
      },
      "execution_count": null,
      "outputs": []
    },
    {
      "cell_type": "code",
      "source": [
        "covid_df.info()"
      ],
      "metadata": {
        "id": "4UiNh_BozAyz"
      },
      "execution_count": null,
      "outputs": []
    },
    {
      "cell_type": "markdown",
      "source": [
        "**Active cases**"
      ],
      "metadata": {
        "id": "HRSw4V7_mUMN"
      }
    },
    {
      "cell_type": "code",
      "source": [
        "covid_df['Active_Cases'] = covid_df['Confirmed'] - (covid_df['Cured'] + covid_df['Deaths'])\n",
        "covid_df.tail()"
      ],
      "metadata": {
        "id": "YvHL4GimmQQO"
      },
      "execution_count": null,
      "outputs": []
    },
    {
      "cell_type": "code",
      "source": [
        "statewise = pd.pivot_table(covid_df, values = ['Confirmed', 'Deaths', 'Cured'],\n",
        "                           index = 'State/UnionTerritory', aggfunc = max)\n",
        "statewise"
      ],
      "metadata": {
        "id": "P64liFzWq6ew"
      },
      "execution_count": null,
      "outputs": []
    },
    {
      "cell_type": "code",
      "source": [
        "statewise['Recovery Rate'] = statewise['Cured']*100 / statewise['Confirmed']"
      ],
      "metadata": {
        "id": "1jBAXa0Hx60m"
      },
      "execution_count": null,
      "outputs": []
    },
    {
      "cell_type": "code",
      "source": [
        "statewise['Mortality Rate'] = statewise['Deaths']*100 / statewise['Confirmed']"
      ],
      "metadata": {
        "id": "6L-HnoJhyGJC"
      },
      "execution_count": null,
      "outputs": []
    },
    {
      "cell_type": "code",
      "source": [
        "statewise.sort_values('Confirmed', ascending = False)"
      ],
      "metadata": {
        "id": "6ISlE0KzySBh"
      },
      "execution_count": null,
      "outputs": []
    },
    {
      "cell_type": "code",
      "source": [
        "statewise.style.background_gradient(cmap = 'coolwarm')"
      ],
      "metadata": {
        "id": "QOu6qJtLzNwB"
      },
      "execution_count": null,
      "outputs": []
    },
    {
      "cell_type": "markdown",
      "source": [
        "**Top 10 active cases states**"
      ],
      "metadata": {
        "id": "xluj6jKh0vOX"
      }
    },
    {
      "cell_type": "code",
      "source": [
        "most_cases_perday = covid_df.groupby('State/UnionTerritory').max()[\n",
        "    ['Active_Cases', 'Date']].sort_values(by = 'Active_Cases', ascending = False)\n",
        "\n",
        "most_cases_perday"
      ],
      "metadata": {
        "id": "YBXDxHoD00Ko"
      },
      "execution_count": null,
      "outputs": []
    },
    {
      "cell_type": "code",
      "source": [
        "fig = plt.figure(figsize = (15,6))\n",
        "bar_plot = sns.barplot(data = most_cases_perday[:10], x = 'State/UnionTerritory', y = 'Active_Cases', palette = 'viridis')\n",
        "plt.xlabel('State')\n",
        "plt.ylabel('Total Active Cases')\n",
        "plt.show()"
      ],
      "metadata": {
        "id": "9dpAPLan2ZIx"
      },
      "execution_count": null,
      "outputs": []
    },
    {
      "cell_type": "markdown",
      "source": [
        "**Top states with highest deaths**"
      ],
      "metadata": {
        "id": "nPeCXytNroLR"
      }
    },
    {
      "cell_type": "code",
      "source": [
        "highest_deaths = covid_df.groupby('State/UnionTerritory').sum()['Deaths'].sort_values(ascending = False)\n",
        "\n",
        "highest_deaths"
      ],
      "metadata": {
        "id": "4UbW8teRrfNu"
      },
      "execution_count": null,
      "outputs": []
    },
    {
      "cell_type": "code",
      "source": [
        "fig = plt.figure(figsize = (15,6))\n",
        "bar_plot = sns.barplot(data = highest_deaths[:10].reset_index(), x = 'State/UnionTerritory', y = 'Deaths', palette = 'viridis')\n",
        "plt.xlabel('State')\n",
        "plt.ylabel('Total Deaths')\n",
        "plt.show()"
      ],
      "metadata": {
        "id": "3gzJBBscsnSC"
      },
      "execution_count": null,
      "outputs": []
    },
    {
      "cell_type": "markdown",
      "source": [
        "**Growth Trend**"
      ],
      "metadata": {
        "id": "cv0mQeBwt9Ee"
      }
    },
    {
      "cell_type": "code",
      "source": [
        "selected_columns = ['State/UnionTerritory', 'Active_Cases']\n",
        "growth_df = covid_df[selected_columns]"
      ],
      "metadata": {
        "id": "Si5u9Cb8xkKn"
      },
      "execution_count": null,
      "outputs": []
    },
    {
      "cell_type": "code",
      "source": [
        "growth_df['Month Year'] = covid_df['Date'].apply(lambda x:x.strftime('%Y-%m'))"
      ],
      "metadata": {
        "id": "cpYkqSIjymNg"
      },
      "execution_count": null,
      "outputs": []
    },
    {
      "cell_type": "code",
      "source": [
        "filtered_city = ['Maharashtra', 'Karnataka', 'Kerala', ' Uttar Pradesh', 'Tamil Nadu']\n",
        "data_lineplot = growth_df[growth_df['State/UnionTerritory'].isin(filtered_city)]\n",
        "data_lineplot_2020 = data_lineplot[data_lineplot['Month Year'].between('2020-01', '2021-12')] # kalau mau 01-2020 s/d 01-2021 nti pakainya between yaa"
      ],
      "metadata": {
        "id": "hylhjO1jy2mu"
      },
      "execution_count": null,
      "outputs": []
    },
    {
      "cell_type": "code",
      "source": [
        "fig = plt.figure(figsize = (15,6))\n",
        "line_plot = sns.lineplot(data = data_lineplot_2020, x = 'Month Year', y = 'Active_Cases', hue = 'State/UnionTerritory')\n",
        "line_plot.set_title('Top 5 Affectd States in India', size = 16)\n",
        "plt.show()"
      ],
      "metadata": {
        "id": "wHYUjf3b0ja9"
      },
      "execution_count": null,
      "outputs": []
    },
    {
      "cell_type": "markdown",
      "source": [
        "**Covid Vaccine**"
      ],
      "metadata": {
        "id": "J7SLlPvw9Oiw"
      }
    },
    {
      "cell_type": "code",
      "source": [
        "vaccine_df.head()"
      ],
      "metadata": {
        "id": "AGDugh_X5_1v"
      },
      "execution_count": null,
      "outputs": []
    },
    {
      "cell_type": "code",
      "source": [
        "vaccine_df['Updated On'] = pd.to_datetime(vaccine_df['Updated On'].str.replace('/', '-'))"
      ],
      "metadata": {
        "id": "sESUKxMyAHQz"
      },
      "execution_count": null,
      "outputs": []
    },
    {
      "cell_type": "code",
      "source": [
        "vaccine_df.rename(columns = {'Updated On' : 'Vaccine Date'}, inplace = True)"
      ],
      "metadata": {
        "id": "m_h8kI80_agS"
      },
      "execution_count": null,
      "outputs": []
    },
    {
      "cell_type": "code",
      "source": [
        "vaccine_df.info()"
      ],
      "metadata": {
        "id": "xZxCmUFv_uHF"
      },
      "execution_count": null,
      "outputs": []
    },
    {
      "cell_type": "code",
      "source": [
        "check = vaccine_df.columns[12:17]\n",
        "check"
      ],
      "metadata": {
        "id": "9yiHc0dRHC5T"
      },
      "execution_count": null,
      "outputs": []
    },
    {
      "cell_type": "code",
      "source": [
        "vaccination_df = vaccine_df.drop(check, axis = 1)"
      ],
      "metadata": {
        "id": "mJh8TUT2CpSR"
      },
      "execution_count": null,
      "outputs": []
    },
    {
      "cell_type": "markdown",
      "source": [
        "**Male vs Female vaccination**"
      ],
      "metadata": {
        "id": "gSa4v1Aq8FV2"
      }
    },
    {
      "cell_type": "code",
      "source": [
        "male_vc = vaccination_df[vaccination_df.columns[-4]].sum()\n",
        "female_vc = vaccination_df[vaccination_df.columns[-3]].sum()"
      ],
      "metadata": {
        "id": "q8PxYYwu8Jmf"
      },
      "execution_count": null,
      "outputs": []
    },
    {
      "cell_type": "code",
      "source": [
        "sex_chart = px.pie(names = ['Male', 'Female'], values = [male_vc, female_vc], title = 'Sex Compare Vaccination')\n",
        "sex_chart.update_layout(height = 400, width = 400)"
      ],
      "metadata": {
        "id": "o8N2m0P399M2"
      },
      "execution_count": null,
      "outputs": []
    },
    {
      "cell_type": "markdown",
      "source": [
        "**Remove rows where state = India**"
      ],
      "metadata": {
        "id": "mRnOtZEn_qJD"
      }
    },
    {
      "cell_type": "code",
      "source": [
        "excl_india =vaccine_df.drop(vaccine_df[vaccine_df['State'] == 'India'].index)\n",
        "excl_india"
      ],
      "metadata": {
        "id": "BudtctB9_eY9"
      },
      "execution_count": null,
      "outputs": []
    },
    {
      "cell_type": "code",
      "source": [
        "excl_india.rename(columns = {'Total Individuals Vaccinated': 'Total'}, inplace = True)"
      ],
      "metadata": {
        "id": "oymRPwp3Ce8a"
      },
      "execution_count": null,
      "outputs": []
    },
    {
      "cell_type": "code",
      "source": [
        "excl_india"
      ],
      "metadata": {
        "id": "Evi6Ly-8Cxd5"
      },
      "execution_count": null,
      "outputs": []
    },
    {
      "cell_type": "markdown",
      "source": [
        "**Most Vaccinated State**"
      ],
      "metadata": {
        "id": "devHOc8kIkM7"
      }
    },
    {
      "cell_type": "code",
      "source": [
        "max_vc = excl_india.groupby('State').sum()['Total'].to_frame('Total').sort_values(by = 'Total', ascending = False).head(5)\n",
        "max_vc"
      ],
      "metadata": {
        "id": "gvvPQLCYIjST"
      },
      "execution_count": null,
      "outputs": []
    },
    {
      "cell_type": "code",
      "source": [
        "fig = plt.figure(figsize = (10,5))\n",
        "most_vc = sns.barplot(data = max_vc, x= max_vc.index, y = max_vc['Total'])\n",
        "plt.xlabel(\"State\")\n",
        "plt.ylabel('Total Vaccinated')\n",
        "plt.title('Top 10 Vaccinated States in India')\n",
        "plt.show()"
      ],
      "metadata": {
        "id": "EqCd-uOEJZf8"
      },
      "execution_count": null,
      "outputs": []
    }
  ]
}